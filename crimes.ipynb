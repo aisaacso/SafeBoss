{
 "cells": [
  {
   "cell_type": "markdown",
   "metadata": {},
   "source": [
    "Questions\n",
    "- Convergence warning on the year logistic?\n",
    "- N used main crimecode for his regression...\n",
    "- What is the meaning of the intercept's p value?\n",
    "- Can we do a logistic regression with all these variables?\n",
    "- EDA in tableau and not shown here...\n",
    "- Statistical question out of streets data.\n",
    "- How do we use train/test data?\n",
    "- Clustering idea: if you wanted to categorize areas & times to understand which combinations had the highest need for policing"
   ]
  },
  {
   "cell_type": "markdown",
   "metadata": {},
   "source": [
    "# Getting and cleaning the data"
   ]
  },
  {
   "cell_type": "code",
   "execution_count": 7,
   "metadata": {
    "collapsed": false
   },
   "outputs": [],
   "source": [
    "# Loads the modules\n",
    "import pandas as pd\n",
    "import numpy as np\n",
    "import matplotlib as mpl\n",
    "import matplotlib.pyplot as plt\n",
    "import seaborn as sns\n",
    "import scipy\n",
    "import statsmodels.api as sm\n",
    "import requests\n",
    "import json\n",
    "from statsmodels.formula.api import ols\n",
    "from statsmodels.formula.api import logit\n",
    "import datetime\n",
    "import calendar\n",
    "from sklearn.cross_validation import train_test_split\n",
    "from sklearn.cluster import KMeans\n",
    "%matplotlib inline"
   ]
  },
  {
   "cell_type": "code",
   "execution_count": 8,
   "metadata": {
    "collapsed": false
   },
   "outputs": [],
   "source": [
    "# Loads the data\n",
    "base_url = 'https://raw.githubusercontent.com/aisaacso/SafeBoss/master/'\n",
    "crime_url = base_url + 'Crime_Incident_Reports.csv'\n",
    "crime = pd.read_csv(crime_url, low_memory = False)"
   ]
  },
  {
   "cell_type": "code",
   "execution_count": 9,
   "metadata": {
    "collapsed": false
   },
   "outputs": [],
   "source": [
    "# Cleans the data\n",
    "\n",
    "# Converts FROMDATE from str to datetime\n",
    "crime['FROMDATE'] = pd.to_datetime(crime.FROMDATE, format = '%m/%d/%Y %I:%M:%S %p')\n",
    "\n",
    "# Lops off data from July, 2012 to August, 2012, so that we have full years (not sure this matters)\n",
    "crime = crime[crime.FROMDATE > '2012-08-10 00:00:00']\n",
    "\n",
    "#Add a date column\n",
    "crime['Date'] = crime.FROMDATE.dt.date\n",
    "\n",
    "#Add a column for the month name\n",
    "def mo_as_name(mo):\n",
    "    return calendar.month_name[mo]\n",
    "\n",
    "crime['MoName'] =  crime['Month'].map(mo_as_name)"
   ]
  },
  {
   "cell_type": "code",
   "execution_count": 10,
   "metadata": {
    "collapsed": false
   },
   "outputs": [],
   "source": [
    "# Dummy for shooting\n",
    "def shoot_dummy(v):\n",
    "    if v=='Yes':\n",
    "        return 1\n",
    "    else:\n",
    "        return 0\n",
    "    \n",
    "crime['Shooting'] = crime['Shooting'].map(shoot_dummy)\n",
    "\n",
    "# this doesn't work for some reason...maybe because Shooting is objects, not strings?\n",
    "#crime['Shoot_dumb'] = crime['Shooting'].map({0:'No', 1:'Yes'})\n",
    "# eventually, do this inline, like #train_df['alive?'] = train_df['Survived'].map({0:'dead', 1:'alive'}) "
   ]
  },
  {
   "cell_type": "code",
   "execution_count": 11,
   "metadata": {
    "collapsed": false
   },
   "outputs": [],
   "source": [
    "# Prepares weather data for adding to crime data\n",
    "weather_url = base_url + 'weather.csv'\n",
    "weather = pd.read_csv(weather_url)\n",
    "weather = weather[weather.STATION == 'GHCND:USW00014739']\n",
    "weather['Date'] = pd.to_datetime(weather.DATE, format = '%Y%m%d')\n",
    "weather['Date'] = weather.Date.dt.date"
   ]
  },
  {
   "cell_type": "markdown",
   "metadata": {},
   "source": [
    "# Exploratory Analysis\n",
    "(Still need to do more of this)"
   ]
  },
  {
   "cell_type": "code",
   "execution_count": 12,
   "metadata": {
    "collapsed": false
   },
   "outputs": [
    {
     "data": {
      "text/plain": [
       "<matplotlib.axes._subplots.AxesSubplot at 0x11ed4f5d0>"
      ]
     },
     "execution_count": 12,
     "metadata": {},
     "output_type": "execute_result"
    },
    {
     "data": {
      "image/png": "[encoded data removed]",
      "text/plain": [
       "<matplotlib.figure.Figure at 0x11ed59d50>"
      ]
     },
     "metadata": {},
     "output_type": "display_data"
    }
   ],
   "source": [
    "# Analysis of crime time of day\n",
    "\n",
    "# Overrides a warning that I don't really understand; should look into it more\n",
    "pd.options.mode.chained_assignment = None\n",
    "\n",
    "# Adds Hour column for each crime\n",
    "crime['Hour'] = crime.FROMDATE.dt.hour\n",
    "\n",
    "# Removes the rows that have no time -- probably needlessly complex!\n",
    "crime_no_time = crime[(crime.FROMDATE.dt.hour == 0) & (crime.FROMDATE.dt.minute == 0)]\n",
    "crime_no_time['no_time'] = 'indicator'\n",
    "crime_time = crime.merge(crime_no_time, how='left')\n",
    "crime_time = crime_time[crime_time.no_time <> 'indicator']\n",
    "\n",
    "# Pivot table of count conditioned on hour\n",
    "hours = pd.pivot_table(crime_time, values = 'DAY_WEEK', index = 'Hour', aggfunc = 'count')\n",
    "\n",
    "#Plots the total number of crimes at each time of day\n",
    "hours.plot(xticks = crime.Hour.unique(), title='Crime Count by Hour (Military Time)')"
   ]
  },
  {
   "cell_type": "markdown",
   "metadata": {},
   "source": [
    "# Regression: What factors contribute to crime per day?"
   ]
  },
  {
   "cell_type": "code",
   "execution_count": 21,
   "metadata": {
    "collapsed": false
   },
   "outputs": [
    {
     "data": {
      "text/plain": [
       "<matplotlib.axes._subplots.AxesSubplot at 0x11b5a26d0>"
      ]
     },
     "execution_count": 21,
     "metadata": {},
     "output_type": "execute_result"
    },
    {
     "data": {
      "image/png": "[encoded data removed]",
      "text/plain": [
       "<matplotlib.figure.Figure at 0x11ead2190>"
      ]
     },
     "metadata": {},
     "output_type": "display_data"
    }
   ],
   "source": [
    "# EDA\n",
    "dates = pd.pivot_table(crime, values = 'MAIN_CRIMECODE', index = ['Date', 'Year', 'MoName', 'DAY_WEEK'], aggfunc = 'count')\n",
    "dates.plot()"
   ]
  },
  {
   "cell_type": "code",
   "execution_count": 16,
   "metadata": {
    "collapsed": false
   },
   "outputs": [
    {
     "data": {
      "text/html": [
       "<table class=\"simpletable\">\n",
       "<caption>OLS Regression Results</caption>\n",
       "<tr>\n",
       "  <th>Dep. Variable:</th>     <td>MAIN_CRIMECODE</td>  <th>  R-squared:         </th> <td>   0.365</td> \n",
       "</tr>\n",
       "<tr>\n",
       "  <th>Model:</th>                   <td>OLS</td>       <th>  Adj. R-squared:    </th> <td>   0.354</td> \n",
       "</tr>\n",
       "<tr>\n",
       "  <th>Method:</th>             <td>Least Squares</td>  <th>  F-statistic:       </th> <td>   32.58</td> \n",
       "</tr>\n",
       "<tr>\n",
       "  <th>Date:</th>             <td>Mon, 25 Apr 2016</td> <th>  Prob (F-statistic):</th> <td>1.91e-92</td> \n",
       "</tr>\n",
       "<tr>\n",
       "  <th>Time:</th>                 <td>08:11:54</td>     <th>  Log-Likelihood:    </th> <td> -5107.5</td> \n",
       "</tr>\n",
       "<tr>\n",
       "  <th>No. Observations:</th>      <td>  1096</td>      <th>  AIC:               </th> <td>1.026e+04</td>\n",
       "</tr>\n",
       "<tr>\n",
       "  <th>Df Residuals:</th>          <td>  1076</td>      <th>  BIC:               </th> <td>1.036e+04</td>\n",
       "</tr>\n",
       "<tr>\n",
       "  <th>Df Model:</th>              <td>    19</td>      <th>                     </th>     <td> </td>    \n",
       "</tr>\n",
       "<tr>\n",
       "  <th>Covariance Type:</th>      <td>nonrobust</td>    <th>                     </th>     <td> </td>    \n",
       "</tr>\n",
       "</table>\n",
       "<table class=\"simpletable\">\n",
       "<tr>\n",
       "      <td></td>         <th>coef</th>     <th>std err</th>      <th>t</th>      <th>P>|t|</th> <th>[95.0% Conf. Int.]</th> \n",
       "</tr>\n",
       "<tr>\n",
       "  <th>Intercept</th> <td>  224.1568</td> <td>    6.017</td> <td>   37.255</td> <td> 0.000</td> <td>  212.351   235.963</td>\n",
       "</tr>\n",
       "<tr>\n",
       "  <th>Monday</th>    <td>  -27.0806</td> <td>    2.926</td> <td>   -9.255</td> <td> 0.000</td> <td>  -32.822   -21.339</td>\n",
       "</tr>\n",
       "<tr>\n",
       "  <th>Saturday</th>  <td>  -23.0625</td> <td>    2.915</td> <td>   -7.911</td> <td> 0.000</td> <td>  -28.783   -17.342</td>\n",
       "</tr>\n",
       "<tr>\n",
       "  <th>Sunday</th>    <td>  -49.7001</td> <td>    2.919</td> <td>  -17.028</td> <td> 0.000</td> <td>  -55.427   -43.973</td>\n",
       "</tr>\n",
       "<tr>\n",
       "  <th>Thursday</th>  <td>  -21.9742</td> <td>    2.919</td> <td>   -7.528</td> <td> 0.000</td> <td>  -27.701   -16.247</td>\n",
       "</tr>\n",
       "<tr>\n",
       "  <th>Tuesday</th>   <td>  -26.3224</td> <td>    2.921</td> <td>   -9.010</td> <td> 0.000</td> <td>  -32.055   -20.590</td>\n",
       "</tr>\n",
       "<tr>\n",
       "  <th>Wednesday</th> <td>  -23.1604</td> <td>    2.920</td> <td>   -7.933</td> <td> 0.000</td> <td>  -28.889   -17.432</td>\n",
       "</tr>\n",
       "<tr>\n",
       "  <th>August</th>    <td>    0.2227</td> <td>    4.373</td> <td>    0.051</td> <td> 0.959</td> <td>   -8.357     8.803</td>\n",
       "</tr>\n",
       "<tr>\n",
       "  <th>December</th>  <td>   -5.0405</td> <td>    4.018</td> <td>   -1.254</td> <td> 0.210</td> <td>  -12.925     2.844</td>\n",
       "</tr>\n",
       "<tr>\n",
       "  <th>February</th>  <td>    1.7327</td> <td>    4.431</td> <td>    0.391</td> <td> 0.696</td> <td>   -6.962    10.428</td>\n",
       "</tr>\n",
       "<tr>\n",
       "  <th>January</th>   <td>    1.8273</td> <td>    4.249</td> <td>    0.430</td> <td> 0.667</td> <td>   -6.510    10.165</td>\n",
       "</tr>\n",
       "<tr>\n",
       "  <th>July</th>      <td>   -1.3267</td> <td>    4.512</td> <td>   -0.294</td> <td> 0.769</td> <td>  -10.181     7.527</td>\n",
       "</tr>\n",
       "<tr>\n",
       "  <th>June</th>      <td>    3.8203</td> <td>    4.239</td> <td>    0.901</td> <td> 0.368</td> <td>   -4.498    12.139</td>\n",
       "</tr>\n",
       "<tr>\n",
       "  <th>March</th>     <td>    5.9447</td> <td>    4.029</td> <td>    1.476</td> <td> 0.140</td> <td>   -1.960    13.850</td>\n",
       "</tr>\n",
       "<tr>\n",
       "  <th>May</th>       <td>    9.7506</td> <td>    3.986</td> <td>    2.446</td> <td> 0.015</td> <td>    1.930    17.572</td>\n",
       "</tr>\n",
       "<tr>\n",
       "  <th>November</th>  <td>   -2.0692</td> <td>    3.898</td> <td>   -0.531</td> <td> 0.596</td> <td>   -9.717     5.579</td>\n",
       "</tr>\n",
       "<tr>\n",
       "  <th>October</th>   <td>    8.6743</td> <td>    3.870</td> <td>    2.241</td> <td> 0.025</td> <td>    1.081    16.268</td>\n",
       "</tr>\n",
       "<tr>\n",
       "  <th>September</th> <td>   15.3790</td> <td>    4.134</td> <td>    3.720</td> <td> 0.000</td> <td>    7.268    23.490</td>\n",
       "</tr>\n",
       "<tr>\n",
       "  <th>TMAX</th>      <td>    0.5988</td> <td>    0.091</td> <td>    6.605</td> <td> 0.000</td> <td>    0.421     0.777</td>\n",
       "</tr>\n",
       "<tr>\n",
       "  <th>PRCP</th>      <td>  -10.9752</td> <td>    2.619</td> <td>   -4.191</td> <td> 0.000</td> <td>  -16.113    -5.837</td>\n",
       "</tr>\n",
       "</table>\n",
       "<table class=\"simpletable\">\n",
       "<tr>\n",
       "  <th>Omnibus:</th>       <td>271.151</td> <th>  Durbin-Watson:     </th> <td>   1.379</td>\n",
       "</tr>\n",
       "<tr>\n",
       "  <th>Prob(Omnibus):</th> <td> 0.000</td>  <th>  Jarque-Bera (JB):  </th> <td>2323.164</td>\n",
       "</tr>\n",
       "<tr>\n",
       "  <th>Skew:</th>          <td>-0.886</td>  <th>  Prob(JB):          </th> <td>    0.00</td>\n",
       "</tr>\n",
       "<tr>\n",
       "  <th>Kurtosis:</th>      <td> 9.909</td>  <th>  Cond. No.          </th> <td>    782.</td>\n",
       "</tr>\n",
       "</table>"
      ],
      "text/plain": [
       "<class 'statsmodels.iolib.summary.Summary'>\n",
       "\"\"\"\n",
       "                            OLS Regression Results                            \n",
       "==============================================================================\n",
       "Dep. Variable:         MAIN_CRIMECODE   R-squared:                       0.365\n",
       "Model:                            OLS   Adj. R-squared:                  0.354\n",
       "Method:                 Least Squares   F-statistic:                     32.58\n",
       "Date:                Mon, 25 Apr 2016   Prob (F-statistic):           1.91e-92\n",
       "Time:                        08:11:54   Log-Likelihood:                -5107.5\n",
       "No. Observations:                1096   AIC:                         1.026e+04\n",
       "Df Residuals:                    1076   BIC:                         1.036e+04\n",
       "Df Model:                          19                                         \n",
       "Covariance Type:            nonrobust                                         \n",
       "==============================================================================\n",
       "                 coef    std err          t      P>|t|      [95.0% Conf. Int.]\n",
       "------------------------------------------------------------------------------\n",
       "Intercept    224.1568      6.017     37.255      0.000       212.351   235.963\n",
       "Monday       -27.0806      2.926     -9.255      0.000       -32.822   -21.339\n",
       "Saturday     -23.0625      2.915     -7.911      0.000       -28.783   -17.342\n",
       "Sunday       -49.7001      2.919    -17.028      0.000       -55.427   -43.973\n",
       "Thursday     -21.9742      2.919     -7.528      0.000       -27.701   -16.247\n",
       "Tuesday      -26.3224      2.921     -9.010      0.000       -32.055   -20.590\n",
       "Wednesday    -23.1604      2.920     -7.933      0.000       -28.889   -17.432\n",
       "August         0.2227      4.373      0.051      0.959        -8.357     8.803\n",
       "December      -5.0405      4.018     -1.254      0.210       -12.925     2.844\n",
       "February       1.7327      4.431      0.391      0.696        -6.962    10.428\n",
       "January        1.8273      4.249      0.430      0.667        -6.510    10.165\n",
       "July          -1.3267      4.512     -0.294      0.769       -10.181     7.527\n",
       "June           3.8203      4.239      0.901      0.368        -4.498    12.139\n",
       "March          5.9447      4.029      1.476      0.140        -1.960    13.850\n",
       "May            9.7506      3.986      2.446      0.015         1.930    17.572\n",
       "November      -2.0692      3.898     -0.531      0.596        -9.717     5.579\n",
       "October        8.6743      3.870      2.241      0.025         1.081    16.268\n",
       "September     15.3790      4.134      3.720      0.000         7.268    23.490\n",
       "TMAX           0.5988      0.091      6.605      0.000         0.421     0.777\n",
       "PRCP         -10.9752      2.619     -4.191      0.000       -16.113    -5.837\n",
       "==============================================================================\n",
       "Omnibus:                      271.151   Durbin-Watson:                   1.379\n",
       "Prob(Omnibus):                  0.000   Jarque-Bera (JB):             2323.164\n",
       "Skew:                          -0.886   Prob(JB):                         0.00\n",
       "Kurtosis:                       9.909   Cond. No.                         782.\n",
       "==============================================================================\n",
       "\n",
       "Warnings:\n",
       "[1] Standard Errors assume that the covariance matrix of the errors is correctly specified.\n",
       "\"\"\""
      ]
     },
     "execution_count": 16,
     "metadata": {},
     "output_type": "execute_result"
    }
   ],
   "source": [
    "#Regression\n",
    "dates = pd.DataFrame(dates)\n",
    "dates['Date'] = dates.index.get_level_values(0)\n",
    "dates['Year'] = dates.index.get_level_values(1)\n",
    "dates['Month'] = dates.index.get_level_values(2)\n",
    "dates['WeekDay'] = dates.index.get_level_values(3)\n",
    "add_weather = pd.merge(dates, weather, how = 'outer', on = 'Date')\n",
    "week_dummies = pd.get_dummies(add_weather['WeekDay']).iloc[:, 1:]\n",
    "month_dummies = pd.get_dummies(add_weather['Month']).iloc[:, 1:]\n",
    "dates_dummy_df = add_weather.join([week_dummies, month_dummies])\n",
    "train, test = train_test_split(dates_dummy_df, test_size = 0.2)\n",
    "model = ols(data=dates_dummy_df, formula='MAIN_CRIMECODE ~ Monday + Saturday + Sunday + Thursday + Tuesday + Wednesday \\\n",
    "+ August + December + February + January + July + June + March + May + November + October + September\\\n",
    "+ TMAX + PRCP')\n",
    "result = model.fit()\n",
    "result.summary()"
   ]
  },
  {
   "cell_type": "markdown",
   "metadata": {},
   "source": [
    "# P-test: Do some areas have more crimes than others?"
   ]
  },
  {
   "cell_type": "code",
   "execution_count": 24,
   "metadata": {
    "collapsed": false
   },
   "outputs": [
    {
     "data": {
      "text/plain": [
       "<matplotlib.axes._subplots.AxesSubplot at 0x12d531f50>"
      ]
     },
     "execution_count": 24,
     "metadata": {},
     "output_type": "execute_result"
    },
    {
     "data": {
      "image/png": "[encoded data removed]",
      "text/plain": [
       "<matplotlib.figure.Figure at 0x11ab8c510>"
      ]
     },
     "metadata": {},
     "output_type": "display_data"
    }
   ],
   "source": [
    "# EDA: Shows which districts have the most crime\n",
    "crime_no_HTU = crime[crime.REPTDISTRICT <> 'HTU']\n",
    "reptd = pd.pivot_table(crime_no_HTU, values = 'DAY_WEEK', index = 'REPTDISTRICT', aggfunc = 'count')\n",
    "reptd.plot(kind = 'bar', sort_columns = True)"
   ]
  },
  {
   "cell_type": "markdown",
   "metadata": {},
   "source": [
    "# Regression: Given a crime, what factors contribute to crime including a shooting?"
   ]
  },
  {
   "cell_type": "markdown",
   "metadata": {},
   "source": [
    "## Theory 1: Day of the week"
   ]
  },
  {
   "cell_type": "code",
   "execution_count": 22,
   "metadata": {
    "collapsed": false
   },
   "outputs": [
    {
     "data": {
      "text/plain": [
       "<matplotlib.axes._subplots.AxesSubplot at 0x11b7e7290>"
      ]
     },
     "execution_count": 22,
     "metadata": {},
     "output_type": "execute_result"
    },
    {
     "data": {
      "image/png": "[encoded data removed]",
      "text/plain": [
       "<matplotlib.figure.Figure at 0x1255c36d0>"
      ]
     },
     "metadata": {},
     "output_type": "display_data"
    }
   ],
   "source": [
    "# Shows which days have the most shootings\n",
    "shootz = crime[crime.Shooting==1]\n",
    "days = pd.pivot_table(shootz, values = 'COMPNOS', index = 'DAY_WEEK', aggfunc = 'count')\n",
    "days.plot(kind = 'bar')"
   ]
  },
  {
   "cell_type": "code",
   "execution_count": 25,
   "metadata": {
    "collapsed": true
   },
   "outputs": [],
   "source": [
    "# Data prep\n",
    "# Add dummies; merge with weather; create working data set\n",
    "week_dummies = pd.get_dummies(crime['DAY_WEEK']).iloc[:, 1:]\n",
    "month_dummies = pd.get_dummies(crime['MoName']).iloc[:, 1:]\n",
    "dist_dummies = pd.get_dummies(crime['REPTDISTRICT']).iloc[:,1:]\n",
    "shift_dummies = pd.get_dummies(crime['SHIFT']).iloc[:,1:]\n",
    "crtype_dummies = pd.get_dummies(crime['MAIN_CRIMECODE']).iloc[:,1:]\n",
    "with_weather = pd.merge(crime, weather, how = 'outer', on = 'Date')\n",
    "dummy_df = with_weather.join([week_dummies, month_dummies, dist_dummies, shift_dummies, crtype_dummies])"
   ]
  },
  {
   "cell_type": "code",
   "execution_count": 27,
   "metadata": {
    "collapsed": false
   },
   "outputs": [
    {
     "name": "stdout",
     "output_type": "stream",
     "text": [
      "Warning: Maximum number of iterations has been exceeded.\n",
      "         Current function value: 0.017836\n",
      "         Iterations: 35\n"
     ]
    },
    {
     "name": "stderr",
     "output_type": "stream",
     "text": [
      "/Users/annaisaacson/anaconda/lib/python2.7/site-packages/statsmodels/base/model.py:466: ConvergenceWarning: Maximum Likelihood optimization failed to converge. Check mle_retvals\n",
      "  \"Check mle_retvals\", ConvergenceWarning)\n"
     ]
    }
   ],
   "source": [
    "# Add year to model? NO\n",
    "train, test = train_test_split(dummy_df, test_size = 0.2)\n",
    "model_logistic = logit(data=train, formula='Shooting ~ Year')\n",
    "result_logistic = model_logistic.fit()\n",
    "\n",
    "# This will demonstrate that p value isn't high enough to justify inclusion\n",
    "#result_logistic.summary()\n",
    "# Is the convergence warning telling me that I don't have enough data? I only have 3 years."
   ]
  },
  {
   "cell_type": "markdown",
   "metadata": {},
   "source": [
    "## Shootings linear regression"
   ]
  },
  {
   "cell_type": "code",
   "execution_count": null,
   "metadata": {
    "collapsed": false
   },
   "outputs": [],
   "source": [
    "# removed variables: HTU, E13, Tuesday, C11, + September + B2 + A15 + Saturday + + E5 + Sunday  + May + July + January \n",
    "model = ols(data=dummy_df, formula='Shooting ~ Monday + Thursday + Wednesday \\\n",
    "+ August + December + February + June + March + November + October \\\n",
    "+ TMAX + PRCP + A7  + B3  + C6 + D14 + D4  + E18')\n",
    "result = model.fit()\n",
    "result.summary()\n",
    "p = result.pvalues\n",
    "p.sort_values(inplace=True)\n",
    "print result.rsquared\n",
    "print p"
   ]
  },
  {
   "cell_type": "markdown",
   "metadata": {},
   "source": [
    "## Shootings logistic regression"
   ]
  },
  {
   "cell_type": "code",
   "execution_count": 39,
   "metadata": {
    "collapsed": false
   },
   "outputs": [
    {
     "name": "stdout",
     "output_type": "stream",
     "text": [
      "Optimization terminated successfully.\n",
      "         Current function value: 0.017470\n",
      "         Iterations 11\n"
     ]
    },
    {
     "data": {
      "text/html": [
       "<table class=\"simpletable\">\n",
       "<caption>Logit Regression Results</caption>\n",
       "<tr>\n",
       "  <th>Dep. Variable:</th>     <td>Shooting</td>     <th>  No. Observations:  </th>  <td>200969</td>  \n",
       "</tr>\n",
       "<tr>\n",
       "  <th>Model:</th>               <td>Logit</td>      <th>  Df Residuals:      </th>  <td>200947</td>  \n",
       "</tr>\n",
       "<tr>\n",
       "  <th>Method:</th>               <td>MLE</td>       <th>  Df Model:          </th>  <td>    21</td>  \n",
       "</tr>\n",
       "<tr>\n",
       "  <th>Date:</th>          <td>Mon, 25 Apr 2016</td> <th>  Pseudo R-squ.:     </th>  <td>0.01141</td> \n",
       "</tr>\n",
       "<tr>\n",
       "  <th>Time:</th>              <td>08:38:15</td>     <th>  Log-Likelihood:    </th> <td> -3510.9</td> \n",
       "</tr>\n",
       "<tr>\n",
       "  <th>converged:</th>           <td>True</td>       <th>  LL-Null:           </th> <td> -3551.4</td> \n",
       "</tr>\n",
       "<tr>\n",
       "  <th> </th>                      <td> </td>        <th>  LLR p-value:       </th> <td>5.403e-09</td>\n",
       "</tr>\n",
       "</table>\n",
       "<table class=\"simpletable\">\n",
       "<tr>\n",
       "      <td></td>         <th>coef</th>     <th>std err</th>      <th>z</th>      <th>P>|z|</th> <th>[95.0% Conf. Int.]</th> \n",
       "</tr>\n",
       "<tr>\n",
       "  <th>Intercept</th> <td>   -7.3040</td> <td>    0.296</td> <td>  -24.701</td> <td> 0.000</td> <td>   -7.884    -6.724</td>\n",
       "</tr>\n",
       "<tr>\n",
       "  <th>Monday</th>    <td>    0.4129</td> <td>    0.139</td> <td>    2.975</td> <td> 0.003</td> <td>    0.141     0.685</td>\n",
       "</tr>\n",
       "<tr>\n",
       "  <th>Sunday</th>    <td>    0.1679</td> <td>    0.155</td> <td>    1.086</td> <td> 0.278</td> <td>   -0.135     0.471</td>\n",
       "</tr>\n",
       "<tr>\n",
       "  <th>Thursday</th>  <td>    0.3735</td> <td>    0.139</td> <td>    2.681</td> <td> 0.007</td> <td>    0.100     0.646</td>\n",
       "</tr>\n",
       "<tr>\n",
       "  <th>Tuesday</th>   <td>    0.1563</td> <td>    0.151</td> <td>    1.037</td> <td> 0.300</td> <td>   -0.139     0.452</td>\n",
       "</tr>\n",
       "<tr>\n",
       "  <th>Wednesday</th> <td>    0.2190</td> <td>    0.146</td> <td>    1.498</td> <td> 0.134</td> <td>   -0.068     0.506</td>\n",
       "</tr>\n",
       "<tr>\n",
       "  <th>August</th>    <td>    0.3118</td> <td>    0.180</td> <td>    1.736</td> <td> 0.083</td> <td>   -0.040     0.664</td>\n",
       "</tr>\n",
       "<tr>\n",
       "  <th>December</th>  <td>    0.5996</td> <td>    0.217</td> <td>    2.767</td> <td> 0.006</td> <td>    0.175     1.024</td>\n",
       "</tr>\n",
       "<tr>\n",
       "  <th>February</th>  <td>    0.3729</td> <td>    0.214</td> <td>    1.744</td> <td> 0.081</td> <td>   -0.046     0.792</td>\n",
       "</tr>\n",
       "<tr>\n",
       "  <th>July</th>      <td>    0.3146</td> <td>    0.197</td> <td>    1.595</td> <td> 0.111</td> <td>   -0.072     0.701</td>\n",
       "</tr>\n",
       "<tr>\n",
       "  <th>June</th>      <td>    0.3416</td> <td>    0.188</td> <td>    1.813</td> <td> 0.070</td> <td>   -0.028     0.711</td>\n",
       "</tr>\n",
       "<tr>\n",
       "  <th>March</th>     <td>    0.4416</td> <td>    0.177</td> <td>    2.501</td> <td> 0.012</td> <td>    0.096     0.788</td>\n",
       "</tr>\n",
       "<tr>\n",
       "  <th>May</th>       <td>    0.2706</td> <td>    0.184</td> <td>    1.469</td> <td> 0.142</td> <td>   -0.090     0.632</td>\n",
       "</tr>\n",
       "<tr>\n",
       "  <th>November</th>  <td>    0.3444</td> <td>    0.227</td> <td>    1.519</td> <td> 0.129</td> <td>   -0.100     0.789</td>\n",
       "</tr>\n",
       "<tr>\n",
       "  <th>October</th>   <td>    0.3330</td> <td>    0.194</td> <td>    1.713</td> <td> 0.087</td> <td>   -0.048     0.714</td>\n",
       "</tr>\n",
       "<tr>\n",
       "  <th>TMAX</th>      <td>    0.0160</td> <td>    0.004</td> <td>    3.713</td> <td> 0.000</td> <td>    0.008     0.024</td>\n",
       "</tr>\n",
       "<tr>\n",
       "  <th>PRCP</th>      <td>   -0.4039</td> <td>    0.202</td> <td>   -2.001</td> <td> 0.045</td> <td>   -0.800    -0.008</td>\n",
       "</tr>\n",
       "<tr>\n",
       "  <th>A7</th>        <td>   -0.3366</td> <td>    0.236</td> <td>   -1.426</td> <td> 0.154</td> <td>   -0.799     0.126</td>\n",
       "</tr>\n",
       "<tr>\n",
       "  <th>B3</th>        <td>   -0.2734</td> <td>    0.167</td> <td>   -1.632</td> <td> 0.103</td> <td>   -0.602     0.055</td>\n",
       "</tr>\n",
       "<tr>\n",
       "  <th>D14</th>       <td>   -0.1607</td> <td>    0.178</td> <td>   -0.903</td> <td> 0.366</td> <td>   -0.509     0.188</td>\n",
       "</tr>\n",
       "<tr>\n",
       "  <th>D4</th>        <td>   -0.2436</td> <td>    0.137</td> <td>   -1.772</td> <td> 0.076</td> <td>   -0.513     0.026</td>\n",
       "</tr>\n",
       "<tr>\n",
       "  <th>E18</th>       <td>   -0.6084</td> <td>    0.256</td> <td>   -2.375</td> <td> 0.018</td> <td>   -1.110    -0.106</td>\n",
       "</tr>\n",
       "</table>"
      ],
      "text/plain": [
       "<class 'statsmodels.iolib.summary.Summary'>\n",
       "\"\"\"\n",
       "                           Logit Regression Results                           \n",
       "==============================================================================\n",
       "Dep. Variable:               Shooting   No. Observations:               200969\n",
       "Model:                          Logit   Df Residuals:                   200947\n",
       "Method:                           MLE   Df Model:                           21\n",
       "Date:                Mon, 25 Apr 2016   Pseudo R-squ.:                 0.01141\n",
       "Time:                        08:38:15   Log-Likelihood:                -3510.9\n",
       "converged:                       True   LL-Null:                       -3551.4\n",
       "                                        LLR p-value:                 5.403e-09\n",
       "==============================================================================\n",
       "                 coef    std err          z      P>|z|      [95.0% Conf. Int.]\n",
       "------------------------------------------------------------------------------\n",
       "Intercept     -7.3040      0.296    -24.701      0.000        -7.884    -6.724\n",
       "Monday         0.4129      0.139      2.975      0.003         0.141     0.685\n",
       "Sunday         0.1679      0.155      1.086      0.278        -0.135     0.471\n",
       "Thursday       0.3735      0.139      2.681      0.007         0.100     0.646\n",
       "Tuesday        0.1563      0.151      1.037      0.300        -0.139     0.452\n",
       "Wednesday      0.2190      0.146      1.498      0.134        -0.068     0.506\n",
       "August         0.3118      0.180      1.736      0.083        -0.040     0.664\n",
       "December       0.5996      0.217      2.767      0.006         0.175     1.024\n",
       "February       0.3729      0.214      1.744      0.081        -0.046     0.792\n",
       "July           0.3146      0.197      1.595      0.111        -0.072     0.701\n",
       "June           0.3416      0.188      1.813      0.070        -0.028     0.711\n",
       "March          0.4416      0.177      2.501      0.012         0.096     0.788\n",
       "May            0.2706      0.184      1.469      0.142        -0.090     0.632\n",
       "November       0.3444      0.227      1.519      0.129        -0.100     0.789\n",
       "October        0.3330      0.194      1.713      0.087        -0.048     0.714\n",
       "TMAX           0.0160      0.004      3.713      0.000         0.008     0.024\n",
       "PRCP          -0.4039      0.202     -2.001      0.045        -0.800    -0.008\n",
       "A7            -0.3366      0.236     -1.426      0.154        -0.799     0.126\n",
       "B3            -0.2734      0.167     -1.632      0.103        -0.602     0.055\n",
       "D14           -0.1607      0.178     -0.903      0.366        -0.509     0.188\n",
       "D4            -0.2436      0.137     -1.772      0.076        -0.513     0.026\n",
       "E18           -0.6084      0.256     -2.375      0.018        -1.110    -0.106\n",
       "==============================================================================\n",
       "\"\"\""
      ]
     },
     "execution_count": 39,
     "metadata": {},
     "output_type": "execute_result"
    }
   ],
   "source": [
    "# removed values: + A15 + September + B2 + E13 + Saturday + HTU + January + C11 + E5 + C6 \n",
    "# Regression\n",
    "model_logistic = logit(data=train, formula='Shooting ~ Monday + Sunday + Thursday + Tuesday + Wednesday \\\n",
    "+ August + December + February + July + June + March + May + November + October \\\n",
    "+ TMAX + PRCP + A7 + B3 + D14 + D4 + E18 ' \n",
    "                     )\n",
    "result_logistic = model_logistic.fit()\n",
    "\n",
    "def analyze_p(res):\n",
    "    p = res.pvalues\n",
    "    p.sort_values(inplace = True)\n",
    "    print res.prsquared\n",
    "    print p\n",
    "    \n",
    "#analyze_p(result_logistic)\n",
    "result_logistic.summary()"
   ]
  },
  {
   "cell_type": "code",
   "execution_count": null,
   "metadata": {
    "collapsed": false
   },
   "outputs": [],
   "source": [
    "residuals = result_logistic.resid_dev\n",
    "fig = sns.distplot(residuals)"
   ]
  },
  {
   "cell_type": "markdown",
   "metadata": {},
   "source": [
    "# Kmeans: Do certain kinds of common crimes happen in certain neighborhoods?"
   ]
  },
  {
   "cell_type": "code",
   "execution_count": 127,
   "metadata": {
    "collapsed": false
   },
   "outputs": [
    {
     "data": {
      "text/plain": [
       "list"
      ]
     },
     "execution_count": 127,
     "metadata": {},
     "output_type": "execute_result"
    }
   ],
   "source": [
    "# Data wrangling\n",
    "\n",
    "# Find the most common crime types\n",
    "cr_counts = pd.DataFrame(pd.pivot_table(crime, index = 'MAIN_CRIMECODE', values = 'DAY_WEEK', aggfunc = 'count'))\n",
    "cr_counts.sort_values('DAY_WEEK', ascending = False, inplace = True)\n",
    "cr_counts = cr_counts.head(10)\n",
    "top_crimes = cr_counts.index.tolist()\n",
    "\n",
    "# Prep the data\n",
    "districts = dist_dummies.columns.tolist()\n",
    "combined = ['REPTDISTRICT'] + top_crimes\n",
    "class_data = dummy_df[combined].dropna()"
   ]
  },
  {
   "cell_type": "code",
   "execution_count": 129,
   "metadata": {
    "collapsed": false
   },
   "outputs": [
    {
     "data": {
      "text/plain": [
       "<matplotlib.axes._subplots.AxesSubplot at 0x12d597250>"
      ]
     },
     "execution_count": 129,
     "metadata": {},
     "output_type": "execute_result"
    },
    {
     "data": {
      "image/png": "[encoded data removed]",
      "text/plain": [
       "<matplotlib.figure.Figure at 0x11fc76950>"
      ]
     },
     "metadata": {},
     "output_type": "display_data"
    }
   ],
   "source": [
    "# EDA\n",
    "districts_crimes = pd.pivot_table(class_data, index = 'REPTDISTRICT', values = crime_types, aggfunc = 'sum')\n",
    "districts_crimes.plot(kind = 'bar')"
   ]
  },
  {
   "cell_type": "code",
   "execution_count": 130,
   "metadata": {
    "collapsed": false
   },
   "outputs": [],
   "source": [
    "# Build the model\n",
    "model = KMeans( n_clusters =  len(districts))\n",
    "model = model.fit(class_data.iloc[:,1:])\n",
    "class_data['kmeans_class'] = model.labels_"
   ]
  },
  {
   "cell_type": "code",
   "execution_count": 134,
   "metadata": {
    "collapsed": false
   },
   "outputs": [
    {
     "data": {
      "text/html": [
       "<div>\n",
       "<table border=\"1\" class=\"dataframe\">\n",
       "  <thead>\n",
       "    <tr style=\"text-align: right;\">\n",
       "      <th>kmeans_class</th>\n",
       "      <th>0</th>\n",
       "      <th>1</th>\n",
       "      <th>2</th>\n",
       "      <th>3</th>\n",
       "      <th>4</th>\n",
       "      <th>5</th>\n",
       "      <th>6</th>\n",
       "      <th>7</th>\n",
       "      <th>8</th>\n",
       "      <th>9</th>\n",
       "      <th>11</th>\n",
       "    </tr>\n",
       "    <tr>\n",
       "      <th>REPTDISTRICT</th>\n",
       "      <th></th>\n",
       "      <th></th>\n",
       "      <th></th>\n",
       "      <th></th>\n",
       "      <th></th>\n",
       "      <th></th>\n",
       "      <th></th>\n",
       "      <th></th>\n",
       "      <th></th>\n",
       "      <th></th>\n",
       "      <th></th>\n",
       "    </tr>\n",
       "  </thead>\n",
       "  <tbody>\n",
       "    <tr>\n",
       "      <th>A1</th>\n",
       "      <td>10382</td>\n",
       "      <td>1860</td>\n",
       "      <td>2945</td>\n",
       "      <td>1488</td>\n",
       "      <td>2751</td>\n",
       "      <td>1863</td>\n",
       "      <td>1492</td>\n",
       "      <td>1472</td>\n",
       "      <td>1381</td>\n",
       "      <td>1280</td>\n",
       "      <td>961</td>\n",
       "    </tr>\n",
       "    <tr>\n",
       "      <th>A15</th>\n",
       "      <td>2025</td>\n",
       "      <td>356</td>\n",
       "      <td>554</td>\n",
       "      <td>290</td>\n",
       "      <td>461</td>\n",
       "      <td>365</td>\n",
       "      <td>299</td>\n",
       "      <td>257</td>\n",
       "      <td>259</td>\n",
       "      <td>246</td>\n",
       "      <td>199</td>\n",
       "    </tr>\n",
       "    <tr>\n",
       "      <th>A7</th>\n",
       "      <td>4489</td>\n",
       "      <td>798</td>\n",
       "      <td>1245</td>\n",
       "      <td>650</td>\n",
       "      <td>1188</td>\n",
       "      <td>788</td>\n",
       "      <td>640</td>\n",
       "      <td>554</td>\n",
       "      <td>575</td>\n",
       "      <td>606</td>\n",
       "      <td>383</td>\n",
       "    </tr>\n",
       "    <tr>\n",
       "      <th>B2</th>\n",
       "      <td>14323</td>\n",
       "      <td>2595</td>\n",
       "      <td>4058</td>\n",
       "      <td>1974</td>\n",
       "      <td>3512</td>\n",
       "      <td>2606</td>\n",
       "      <td>2091</td>\n",
       "      <td>1952</td>\n",
       "      <td>1869</td>\n",
       "      <td>1714</td>\n",
       "      <td>1351</td>\n",
       "    </tr>\n",
       "    <tr>\n",
       "      <th>B3</th>\n",
       "      <td>8672</td>\n",
       "      <td>1551</td>\n",
       "      <td>2534</td>\n",
       "      <td>1209</td>\n",
       "      <td>2239</td>\n",
       "      <td>1637</td>\n",
       "      <td>1278</td>\n",
       "      <td>1128</td>\n",
       "      <td>1199</td>\n",
       "      <td>1091</td>\n",
       "      <td>844</td>\n",
       "    </tr>\n",
       "    <tr>\n",
       "      <th>C11</th>\n",
       "      <td>12116</td>\n",
       "      <td>2175</td>\n",
       "      <td>3401</td>\n",
       "      <td>1626</td>\n",
       "      <td>3173</td>\n",
       "      <td>2282</td>\n",
       "      <td>1794</td>\n",
       "      <td>1707</td>\n",
       "      <td>1636</td>\n",
       "      <td>1532</td>\n",
       "      <td>1095</td>\n",
       "    </tr>\n",
       "    <tr>\n",
       "      <th>C6</th>\n",
       "      <td>7240</td>\n",
       "      <td>1332</td>\n",
       "      <td>2040</td>\n",
       "      <td>1032</td>\n",
       "      <td>1821</td>\n",
       "      <td>1376</td>\n",
       "      <td>1075</td>\n",
       "      <td>934</td>\n",
       "      <td>956</td>\n",
       "      <td>951</td>\n",
       "      <td>612</td>\n",
       "    </tr>\n",
       "    <tr>\n",
       "      <th>D14</th>\n",
       "      <td>6764</td>\n",
       "      <td>1231</td>\n",
       "      <td>1968</td>\n",
       "      <td>954</td>\n",
       "      <td>1752</td>\n",
       "      <td>1274</td>\n",
       "      <td>990</td>\n",
       "      <td>881</td>\n",
       "      <td>882</td>\n",
       "      <td>861</td>\n",
       "      <td>654</td>\n",
       "    </tr>\n",
       "    <tr>\n",
       "      <th>D4</th>\n",
       "      <td>13366</td>\n",
       "      <td>2341</td>\n",
       "      <td>3745</td>\n",
       "      <td>1835</td>\n",
       "      <td>3354</td>\n",
       "      <td>2434</td>\n",
       "      <td>1977</td>\n",
       "      <td>1849</td>\n",
       "      <td>1704</td>\n",
       "      <td>1695</td>\n",
       "      <td>1230</td>\n",
       "    </tr>\n",
       "    <tr>\n",
       "      <th>E13</th>\n",
       "      <td>5244</td>\n",
       "      <td>933</td>\n",
       "      <td>1512</td>\n",
       "      <td>716</td>\n",
       "      <td>1444</td>\n",
       "      <td>1004</td>\n",
       "      <td>785</td>\n",
       "      <td>755</td>\n",
       "      <td>719</td>\n",
       "      <td>648</td>\n",
       "      <td>446</td>\n",
       "    </tr>\n",
       "    <tr>\n",
       "      <th>E18</th>\n",
       "      <td>4885</td>\n",
       "      <td>878</td>\n",
       "      <td>1428</td>\n",
       "      <td>649</td>\n",
       "      <td>1255</td>\n",
       "      <td>909</td>\n",
       "      <td>721</td>\n",
       "      <td>638</td>\n",
       "      <td>659</td>\n",
       "      <td>608</td>\n",
       "      <td>470</td>\n",
       "    </tr>\n",
       "    <tr>\n",
       "      <th>E5</th>\n",
       "      <td>4275</td>\n",
       "      <td>826</td>\n",
       "      <td>1206</td>\n",
       "      <td>596</td>\n",
       "      <td>1067</td>\n",
       "      <td>780</td>\n",
       "      <td>605</td>\n",
       "      <td>530</td>\n",
       "      <td>596</td>\n",
       "      <td>526</td>\n",
       "      <td>382</td>\n",
       "    </tr>\n",
       "    <tr>\n",
       "      <th>HTU</th>\n",
       "      <td>2</td>\n",
       "      <td>NaN</td>\n",
       "      <td>1</td>\n",
       "      <td>NaN</td>\n",
       "      <td>2</td>\n",
       "      <td>1</td>\n",
       "      <td>NaN</td>\n",
       "      <td>NaN</td>\n",
       "      <td>NaN</td>\n",
       "      <td>NaN</td>\n",
       "      <td>2</td>\n",
       "    </tr>\n",
       "  </tbody>\n",
       "</table>\n",
       "</div>"
      ],
      "text/plain": [
       "kmeans_class     0     1     2     3     4     5     6     7     8     9   \\\n",
       "REPTDISTRICT                                                                \n",
       "A1            10382  1860  2945  1488  2751  1863  1492  1472  1381  1280   \n",
       "A15            2025   356   554   290   461   365   299   257   259   246   \n",
       "A7             4489   798  1245   650  1188   788   640   554   575   606   \n",
       "B2            14323  2595  4058  1974  3512  2606  2091  1952  1869  1714   \n",
       "B3             8672  1551  2534  1209  2239  1637  1278  1128  1199  1091   \n",
       "C11           12116  2175  3401  1626  3173  2282  1794  1707  1636  1532   \n",
       "C6             7240  1332  2040  1032  1821  1376  1075   934   956   951   \n",
       "D14            6764  1231  1968   954  1752  1274   990   881   882   861   \n",
       "D4            13366  2341  3745  1835  3354  2434  1977  1849  1704  1695   \n",
       "E13            5244   933  1512   716  1444  1004   785   755   719   648   \n",
       "E18            4885   878  1428   649  1255   909   721   638   659   608   \n",
       "E5             4275   826  1206   596  1067   780   605   530   596   526   \n",
       "HTU               2   NaN     1   NaN     2     1   NaN   NaN   NaN   NaN   \n",
       "\n",
       "kmeans_class    11  \n",
       "REPTDISTRICT        \n",
       "A1             961  \n",
       "A15            199  \n",
       "A7             383  \n",
       "B2            1351  \n",
       "B3             844  \n",
       "C11           1095  \n",
       "C6             612  \n",
       "D14            654  \n",
       "D4            1230  \n",
       "E13            446  \n",
       "E18            470  \n",
       "E5             382  \n",
       "HTU              2  "
      ]
     },
     "execution_count": 134,
     "metadata": {},
     "output_type": "execute_result"
    },
    {
     "data": {
      "image/png": "[encoded data removed]",
      "text/plain": [
       "<matplotlib.figure.Figure at 0x14b35fed0>"
      ]
     },
     "metadata": {},
     "output_type": "display_data"
    }
   ],
   "source": [
    "# Analyze the model\n",
    "\n",
    "#Plot the classification\n",
    "plt.figure(figsize=(7,6))\n",
    "sns.stripplot(x='REPTDISTRICT', y='kmeans_class', data=class_data, jitter= True)\n",
    "\n",
    "#Confusion matrix\n",
    "pd.pivot_table(class_data, index='REPTDISTRICT', columns = 'kmeans_class', values = '11xx', aggfunc = 'count')"
   ]
  },
  {
   "cell_type": "markdown",
   "metadata": {},
   "source": [
    "# Kmeans: Do certain kinds of crimes happen on certain police shifts?"
   ]
  },
  {
   "cell_type": "code",
   "execution_count": null,
   "metadata": {
    "collapsed": true
   },
   "outputs": [],
   "source": []
  },
  {
   "cell_type": "markdown",
   "metadata": {},
   "source": [
    "# Crimes of business concern\n",
    "Team: The charts below show the streets with the most business crimes for each district.\n",
    "How do we want to go about turning this into a statistics question?"
   ]
  },
  {
   "cell_type": "code",
   "execution_count": null,
   "metadata": {
    "collapsed": false
   },
   "outputs": [],
   "source": [
    "# create a pivot table that classifies streets by the number of business crimes\n",
    "\n",
    "business_crimes = ['COMMERCIAL BURGLARY', 'VANDALISM', 'ROBBERY', 'OTHER LARCENY', 'BurgTools', 'ARSON', 'Larceny'\\\n",
    "                  'Other Burglary', 'PROSTITUTION CHARGES', 'PubDrink']\n",
    "\n",
    "def is_bus_cr(c):\n",
    "    if c in business_crimes:\n",
    "        return 1\n",
    "    else:\n",
    "        return 0\n",
    "    \n",
    "crime['BusCr'] =  crime['INCIDENT_TYPE_DESCRIPTION'].map(is_bus_cr)\n",
    "dists = crime['REPTDISTRICT'].unique().tolist()\n",
    "\n",
    "#Removes NaN; will only work if nan is the last one.\n",
    "dists.pop()\n",
    "\n",
    "for d in dists:\n",
    "    var = crime.loc[crime.REPTDISTRICT == d]\n",
    "    streets = pd.DataFrame(pd.pivot_table(var, values = 'BusCr', index = 'STREETNAME', aggfunc = 'sum'))\n",
    "    streets.sort_values('BusCr', ascending = False, inplace = True)\n",
    "    top_five = streets.head(5)\n",
    "    top_five.plot(kind = 'bar', title = d)\n",
    "    #total = streets.BusCr.sum()\n",
    "    #top_five['Proportion_here'] = top_five.BusCr / total"
   ]
  }
 ],
 "metadata": {
  "kernelspec": {
   "display_name": "Python 2",
   "language": "python",
   "name": "python2"
  },
  "language_info": {
   "codemirror_mode": {
    "name": "ipython",
    "version": 2
   },
   "file_extension": ".py",
   "mimetype": "text/x-python",
   "name": "python",
   "nbconvert_exporter": "python",
   "pygments_lexer": "ipython2",
   "version": "2.7.11"
  }
 },
 "nbformat": 4,
 "nbformat_minor": 0
}
